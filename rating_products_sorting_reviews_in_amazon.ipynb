{
 "cells": [
  {
   "cell_type": "code",
   "execution_count": 3,
   "metadata": {
    "collapsed": true,
    "pycharm": {
     "name": "#%%\n"
    }
   },
   "outputs": [],
   "source": [
    "import pandas as pd\n",
    "from datetime import timedelta\n",
    "import scipy.stats as st\n",
    "import math\n",
    "pd.set_option('display.float_format', lambda x: '%.3f' % x)"
   ]
  },
  {
   "cell_type": "code",
   "execution_count": 4,
   "outputs": [],
   "source": [
    "df_ = pd.read_csv('amazon_review.csv')\n",
    "df = df_.copy()"
   ],
   "metadata": {
    "collapsed": false,
    "pycharm": {
     "name": "#%%\n"
    }
   }
  },
  {
   "cell_type": "code",
   "execution_count": 5,
   "outputs": [
    {
     "name": "stdout",
     "output_type": "stream",
     "text": [
      "--------- HEAD ---------\n",
      "       reviewerID        asin  \\\n",
      "0  A3SBTW3WS4IQSN  B007WTAJTO   \n",
      "1  A18K1ODH1I2MVB  B007WTAJTO   \n",
      "2  A2FII3I2MBMUIA  B007WTAJTO   \n",
      "3   A3H99DFEG68SR  B007WTAJTO   \n",
      "4  A375ZM4U047O79  B007WTAJTO   \n",
      "5  A2IDCSC6NVONIZ  B007WTAJTO   \n",
      "6  A26YHXZD5UFPVQ  B007WTAJTO   \n",
      "7  A3CW0ZLUO5X2B1  B007WTAJTO   \n",
      "8  A2CYJO155QP33S  B007WTAJTO   \n",
      "9  A2S7XG3ZC4VGOQ  B007WTAJTO   \n",
      "\n",
      "                                       reviewerName helpful  \\\n",
      "0                                               NaN  [0, 0]   \n",
      "1                                              0mie  [0, 0]   \n",
      "2                                               1K3  [0, 0]   \n",
      "3                                               1m2  [0, 0]   \n",
      "4                                      2&amp;1/2Men  [0, 0]   \n",
      "5                                           2Cents!  [0, 0]   \n",
      "6                                        2K1Toaster  [0, 0]   \n",
      "7  35-year Technology Consumer \"8-tracks to 802.11\"  [0, 0]   \n",
      "8                                         4evryoung  [1, 1]   \n",
      "9                                          53rdcard  [0, 0]   \n",
      "\n",
      "                                          reviewText  overall  \\\n",
      "0                                         No issues.    4.000   \n",
      "1  Purchased this for my device, it worked as adv...    5.000   \n",
      "2  it works as expected. I should have sprung for...    4.000   \n",
      "3  This think has worked out great.Had a diff. br...    5.000   \n",
      "4  Bought it with Retail Packaging, arrived legit...    5.000   \n",
      "5  It's mini storage.  It doesn't do anything els...    5.000   \n",
      "6  I have it in my phone and it never skips a bea...    5.000   \n",
      "7  It's hard to believe how affordable digital ha...    5.000   \n",
      "8  Works in a HTC Rezound.  Was running short of ...    5.000   \n",
      "9  in my galaxy s4, super fast card, and am total...    5.000   \n",
      "\n",
      "                                             summary  unixReviewTime  \\\n",
      "0                                         Four Stars      1406073600   \n",
      "1                                      MOAR SPACE!!!      1382659200   \n",
      "2                          nothing to really say....      1356220800   \n",
      "3             Great buy at this price!!!  *** UPDATE      1384992000   \n",
      "4                                   best deal around      1373673600   \n",
      "5                        Not a lot to really be said      1367193600   \n",
      "6                                         Works well      1382140800   \n",
      "7  32 GB for less than two sawbucks...what's not ...      1404950400   \n",
      "8                                      Loads of room      1395619200   \n",
      "9                                        works great      1381449600   \n",
      "\n",
      "   reviewTime  day_diff  helpful_yes  total_vote  \n",
      "0  2014-07-23       138            0           0  \n",
      "1  2013-10-25       409            0           0  \n",
      "2  2012-12-23       715            0           0  \n",
      "3  2013-11-21       382            0           0  \n",
      "4  2013-07-13       513            0           0  \n",
      "5  2013-04-29       588            0           0  \n",
      "6  2013-10-19       415            0           0  \n",
      "7  2014-10-07        62            0           0  \n",
      "8  2014-03-24       259            1           1  \n",
      "9  2013-11-10       393            0           0  \n",
      "--------- SHAPE ---------\n",
      "(4915, 12)\n",
      "--------- COLUMNS ---------\n",
      "Index(['reviewerID', 'asin', 'reviewerName', 'helpful', 'reviewText',\n",
      "       'overall', 'summary', 'unixReviewTime', 'reviewTime', 'day_diff',\n",
      "       'helpful_yes', 'total_vote'],\n",
      "      dtype='object')\n",
      "--------- DESCRIBE ---------\n",
      "                  count           mean          std            min  \\\n",
      "overall        4915.000          4.588        0.997          1.000   \n",
      "unixReviewTime 4915.000 1379465001.668 15818574.323 1339200000.000   \n",
      "day_diff       4915.000        437.367      209.440          1.000   \n",
      "helpful_yes    4915.000          1.311       41.619          0.000   \n",
      "total_vote     4915.000          1.521       44.123          0.000   \n",
      "\n",
      "                          25%            50%            75%            max  \n",
      "overall                 5.000          5.000          5.000          5.000  \n",
      "unixReviewTime 1365897600.000 1381276800.000 1392163200.000 1406073600.000  \n",
      "day_diff              281.000        431.000        601.000       1064.000  \n",
      "helpful_yes             0.000          0.000          0.000       1952.000  \n",
      "total_vote              0.000          0.000          0.000       2020.000  \n",
      "--------- INFO ---------\n",
      "<class 'pandas.core.frame.DataFrame'>\n",
      "RangeIndex: 4915 entries, 0 to 4914\n",
      "Data columns (total 12 columns):\n",
      " #   Column          Non-Null Count  Dtype  \n",
      "---  ------          --------------  -----  \n",
      " 0   reviewerID      4915 non-null   object \n",
      " 1   asin            4915 non-null   object \n",
      " 2   reviewerName    4914 non-null   object \n",
      " 3   helpful         4915 non-null   object \n",
      " 4   reviewText      4914 non-null   object \n",
      " 5   overall         4915 non-null   float64\n",
      " 6   summary         4915 non-null   object \n",
      " 7   unixReviewTime  4915 non-null   int64  \n",
      " 8   reviewTime      4915 non-null   object \n",
      " 9   day_diff        4915 non-null   int64  \n",
      " 10  helpful_yes     4915 non-null   int64  \n",
      " 11  total_vote      4915 non-null   int64  \n",
      "dtypes: float64(1), int64(4), object(7)\n",
      "memory usage: 460.9+ KB\n",
      "None\n",
      "--------- FREQUENCY ---------\n",
      "reviewerID        4915\n",
      "asin                 1\n",
      "reviewerName      4594\n",
      "helpful             42\n",
      "reviewText        4912\n",
      "overall              5\n",
      "summary           3885\n",
      "unixReviewTime     690\n",
      "reviewTime         690\n",
      "day_diff           690\n",
      "helpful_yes         23\n",
      "total_vote          26\n",
      "dtype: int64\n",
      "--------- ANY NULL VALUES ---------\n",
      "True\n",
      "--------- SUM OF NULL VALUES ---------\n",
      "reviewerID        0\n",
      "asin              0\n",
      "reviewerName      1\n",
      "helpful           0\n",
      "reviewText        1\n",
      "overall           0\n",
      "summary           0\n",
      "unixReviewTime    0\n",
      "reviewTime        0\n",
      "day_diff          0\n",
      "helpful_yes       0\n",
      "total_vote        0\n",
      "dtype: int64\n"
     ]
    }
   ],
   "source": [
    "def quick_info(dataframe):\n",
    "    print(\"--------- HEAD ---------\")\n",
    "    print(dataframe.head(10))\n",
    "    print(\"--------- SHAPE ---------\")\n",
    "    print(dataframe.shape)\n",
    "    print(\"--------- COLUMNS ---------\")\n",
    "    print(dataframe.columns)\n",
    "    print(\"--------- DESCRIBE ---------\")\n",
    "    print(dataframe.describe().T)\n",
    "    print(\"--------- INFO ---------\")\n",
    "    print(dataframe.info())\n",
    "    print(\"--------- FREQUENCY ---------\")\n",
    "    print(dataframe.nunique())\n",
    "    print(\"--------- ANY NULL VALUES ---------\")\n",
    "    print(dataframe.isnull().values.any())\n",
    "    print(\"--------- SUM OF NULL VALUES ---------\")\n",
    "    print(dataframe.isnull().sum())\n",
    "\n",
    "quick_info(df)"
   ],
   "metadata": {
    "collapsed": false,
    "pycharm": {
     "name": "#%%\n"
    }
   }
  },
  {
   "cell_type": "markdown",
   "source": [
    "NOTE: We don't need to drop NA values since reviewerName and reviewText don't effect our process"
   ],
   "metadata": {
    "collapsed": false,
    "pycharm": {
     "name": "#%% md\n"
    }
   }
  },
  {
   "cell_type": "code",
   "execution_count": 6,
   "outputs": [
    {
     "data": {
      "text/plain": "4.587589013224822"
     },
     "execution_count": 6,
     "metadata": {},
     "output_type": "execute_result"
    }
   ],
   "source": [
    "# Task 1_1\n",
    "# Average rating of the product\n",
    "def rating_average(dataframe):\n",
    "    return dataframe['overall'].mean()\n",
    "\n",
    "rating_average(df)"
   ],
   "metadata": {
    "collapsed": false,
    "pycharm": {
     "name": "#%%\n"
    }
   }
  },
  {
   "cell_type": "code",
   "execution_count": 7,
   "outputs": [],
   "source": [
    "# Time-Based Weighted Average\n",
    "\n",
    "# Task 1_2\n",
    "df['reviewTime'] = df['reviewTime'].apply(pd.to_datetime)"
   ],
   "metadata": {
    "collapsed": false,
    "pycharm": {
     "name": "#%%\n"
    }
   }
  },
  {
   "cell_type": "code",
   "execution_count": 8,
   "outputs": [
    {
     "name": "stdout",
     "output_type": "stream",
     "text": [
      "<class 'pandas.core.series.Series'>\n",
      "RangeIndex: 4915 entries, 0 to 4914\n",
      "Series name: reviewTime\n",
      "Non-Null Count  Dtype         \n",
      "--------------  -----         \n",
      "4915 non-null   datetime64[ns]\n",
      "dtypes: datetime64[ns](1)\n",
      "memory usage: 38.5 KB\n"
     ]
    }
   ],
   "source": [
    "df['reviewTime'].info()"
   ],
   "metadata": {
    "collapsed": false,
    "pycharm": {
     "name": "#%%\n"
    }
   }
  },
  {
   "cell_type": "code",
   "execution_count": 9,
   "outputs": [],
   "source": [
    "current_date = df['reviewTime'].max()"
   ],
   "metadata": {
    "collapsed": false,
    "pycharm": {
     "name": "#%%\n"
    }
   }
  },
  {
   "cell_type": "code",
   "execution_count": 10,
   "outputs": [],
   "source": [
    "analysis_date = current_date + timedelta(days=2)"
   ],
   "metadata": {
    "collapsed": false,
    "pycharm": {
     "name": "#%%\n"
    }
   }
  },
  {
   "cell_type": "code",
   "execution_count": 11,
   "outputs": [],
   "source": [
    "df['timeDiff'] = (analysis_date - df['reviewTime']).dt.days"
   ],
   "metadata": {
    "collapsed": false,
    "pycharm": {
     "name": "#%%\n"
    }
   }
  },
  {
   "cell_type": "code",
   "execution_count": 12,
   "outputs": [
    {
     "data": {
      "text/plain": "3974    1065\n502     1064\n1761    1064\n2881    1064\n2382    1063\n        ... \n3690       2\n1688       2\n4364       2\n2603       2\n2629       2\nName: timeDiff, Length: 4915, dtype: int64"
     },
     "execution_count": 12,
     "metadata": {},
     "output_type": "execute_result"
    }
   ],
   "source": [
    "df['timeDiff'].sort_values(ascending=False)"
   ],
   "metadata": {
    "collapsed": false,
    "pycharm": {
     "name": "#%%\n"
    }
   }
  },
  {
   "cell_type": "code",
   "execution_count": 13,
   "outputs": [],
   "source": [
    "q1, q2, q3 = df['timeDiff'].quantile(q=[.25, .5, .75])"
   ],
   "metadata": {
    "collapsed": false,
    "pycharm": {
     "name": "#%%\n"
    }
   }
  },
  {
   "cell_type": "code",
   "execution_count": 14,
   "outputs": [],
   "source": [
    "def time_based_weighted_average(dataframe, w1=32, w2=28, w3=24, w4=16):\n",
    "    return (dataframe.loc[df[\"timeDiff\"] <= q1, \"overall\"].mean() * w1 / 100,\n",
    "            dataframe.loc[(dataframe[\"timeDiff\"] > q1) & (dataframe[\"timeDiff\"] <= q2), \"overall\"].mean() * w2 / 100,\n",
    "            dataframe.loc[(dataframe[\"timeDiff\"] > q2) & (dataframe[\"timeDiff\"] <= q3), \"overall\"].mean() * w3 / 100,\n",
    "            dataframe.loc[(dataframe[\"timeDiff\"] > q3), \"overall\"].mean() * w4 / 100)\n",
    "\n",
    "value1, value2, value3, value4 = time_based_weighted_average(df)"
   ],
   "metadata": {
    "collapsed": false,
    "pycharm": {
     "name": "#%%\n"
    }
   }
  },
  {
   "cell_type": "code",
   "execution_count": 15,
   "outputs": [
    {
     "name": "stdout",
     "output_type": "stream",
     "text": [
      "Interval 1: 1.502653721682848, Interval 2: 1.2981193785772691, Interval 3: 1.097198697068404, Interval 4: 0.711400651465798\n",
      "Time Based Weighted Average: 4.6093724487943195\n"
     ]
    }
   ],
   "source": [
    "# Task 1_3\n",
    "print(f'Interval 1: {value1}, Interval 2: {value2}, Interval 3: {value3}, Interval 4: {value4}\\n'\n",
    "      f'Time Based Weighted Average: {sum(time_based_weighted_average(df))}')"
   ],
   "metadata": {
    "collapsed": false,
    "pycharm": {
     "name": "#%%\n"
    }
   }
  },
  {
   "cell_type": "markdown",
   "source": [
    "When divided `timeDiff` column into quartiles, the first quartile value has a higher weighting value as it has a higher value than the others. Also, as can be seen above, this shows a parallel decrease in the weighted value with the quartiles order."
   ],
   "metadata": {
    "collapsed": false,
    "pycharm": {
     "name": "#%% md\n"
    }
   }
  },
  {
   "cell_type": "code",
   "execution_count": 16,
   "outputs": [
    {
     "name": "stdout",
     "output_type": "stream",
     "text": [
      "Rating Average => 4.587589013224822\n",
      "Time Based Weighted Average => 4.6093724487943195\n"
     ]
    }
   ],
   "source": [
    "print(f'Rating Average => {rating_average(df)}\\n'\n",
    "      f'Time Based Weighted Average => {sum(time_based_weighted_average(df))}')"
   ],
   "metadata": {
    "collapsed": false,
    "pycharm": {
     "name": "#%%\n"
    }
   }
  },
  {
   "cell_type": "code",
   "execution_count": 17,
   "outputs": [],
   "source": [
    "# 2nd Approach w/ qcut\n",
    "# def time_weighted_average(dataframe, w1=32,w2=26,w3=24,w4=18):\n",
    "#     dataframe['weights'] = pd.qcut(dataframe[\"day_delta\"], [0, 0.25, 0.5, 0.75, 1], labels=[32, 26, 24, 18]).astype(\"int\")\n",
    "#     weighted_avg = dataframe.groupby(\"weights\").agg({\"overall\": \"mean\"}).reset_index()\n",
    "#     time_weighted_scores = weighted_avg[\"weights\"] * weighted_avg[\"overall\"] / 100\n",
    "#     return time_weighted_scores.sum(), weighted_avg\n",
    "#\n",
    "# time_weighted_score, weighted_avg = time_weighted_average(df)\n",
    "# print(time_weighted_score)\n",
    "# weighted_avg"
   ],
   "metadata": {
    "collapsed": false,
    "pycharm": {
     "name": "#%%\n"
    }
   }
  },
  {
   "cell_type": "code",
   "execution_count": 18,
   "outputs": [],
   "source": [
    "# Task 2_1\n",
    "\n",
    "# Create a column which contains info about not helpful reviews\n",
    "df['helpful_no'] = df['total_vote'] - df['helpful_yes']"
   ],
   "metadata": {
    "collapsed": false,
    "pycharm": {
     "name": "#%%\n"
    }
   }
  },
  {
   "cell_type": "code",
   "execution_count": 19,
   "outputs": [],
   "source": [
    "# Task 2_2\n",
    "\n",
    "#Up-Down Difference Score\n",
    "def score_up_down_diff(up, down):\n",
    "    return up - down"
   ],
   "metadata": {
    "collapsed": false,
    "pycharm": {
     "name": "#%%\n"
    }
   }
  },
  {
   "cell_type": "code",
   "execution_count": 20,
   "outputs": [],
   "source": [
    "#Average Rating Score\n",
    "\n",
    "def score_average_rating(up, down):\n",
    "    if up + down == 0:\n",
    "        return 0\n",
    "    return up / (up + down)"
   ],
   "metadata": {
    "collapsed": false,
    "pycharm": {
     "name": "#%%\n"
    }
   }
  },
  {
   "cell_type": "code",
   "execution_count": 21,
   "outputs": [],
   "source": [
    "#Wilson Lower Bound (WLB) Score\n",
    "def wilson_lower_bound(up, down, confidence=0.95):\n",
    "    \"\"\"\n",
    "    Calculates Wilson Lower Bound Score\n",
    "\n",
    "    - The lower limit of the confidence interval to be calculated for the Bernoulli parameter p is accepted as the WLB score.\n",
    "    - The score to be calculated is used for product ranking.\n",
    "    - Note:\n",
    "    If the scores are between 1-5, 1-3 are marked as negative, 4-5 as positive and then scores can be adjusted to Bernoulli.\n",
    "    This brings with it some problems. For this reason, it is necessary to make a bayesian average rating.\n",
    "\n",
    "    Parameters\n",
    "    ----------\n",
    "    up: int\n",
    "        up count\n",
    "    down: int\n",
    "        down count\n",
    "    confidence: float\n",
    "        confidence\n",
    "\n",
    "    Returns\n",
    "    -------\n",
    "    wilson score: float\n",
    "\n",
    "    \"\"\"\n",
    "\n",
    "    n = up + down\n",
    "    if n == 0:\n",
    "        return 0\n",
    "    z = st.norm.ppf(1 - (1 - confidence) / 2)\n",
    "    phat = 1.0 * up / n\n",
    "    return (phat + z * z / (2 * n) - z * math.sqrt((phat * (1 - phat) + z * z / (4 * n)) / n)) / (1 + z * z / n)"
   ],
   "metadata": {
    "collapsed": false,
    "pycharm": {
     "name": "#%%\n"
    }
   }
  },
  {
   "cell_type": "code",
   "execution_count": 22,
   "outputs": [],
   "source": [
    "df[\"score_pos_neg_diff\"] = df.apply(lambda x: score_up_down_diff(x['helpful_yes'], x['helpful_no']), axis=1)"
   ],
   "metadata": {
    "collapsed": false,
    "pycharm": {
     "name": "#%%\n"
    }
   }
  },
  {
   "cell_type": "code",
   "execution_count": 23,
   "outputs": [],
   "source": [
    "df[\"score_average_rating\"] = df.apply(lambda x: score_average_rating(x['helpful_yes'], x['helpful_no']), axis=1)"
   ],
   "metadata": {
    "collapsed": false,
    "pycharm": {
     "name": "#%%\n"
    }
   }
  },
  {
   "cell_type": "code",
   "execution_count": 24,
   "outputs": [],
   "source": [
    "df['wilson_lower_bound'] = df.apply(lambda x: wilson_lower_bound(x['helpful_yes'], x['helpful_no']), axis=1)"
   ],
   "metadata": {
    "collapsed": false,
    "pycharm": {
     "name": "#%%\n"
    }
   }
  },
  {
   "cell_type": "code",
   "execution_count": 25,
   "outputs": [
    {
     "data": {
      "text/plain": "      score_pos_neg_diff  score_average_rating  wilson_lower_bound\n2031                1884                 0.966               0.958\n4212                1442                 0.926               0.912\n3449                1351                 0.949               0.937\n317                  349                 0.853               0.819\n3981                  85                 0.806               0.732\n...                  ...                   ...                 ...\n4391                  -3                 0.000               0.000\n4574                  -5                 0.308               0.127\n3198                  -5                 0.143               0.026\n2751                -102                 0.068               0.035\n2909                -130                 0.225               0.176\n\n[4915 rows x 3 columns]",
      "text/html": "<div>\n<style scoped>\n    .dataframe tbody tr th:only-of-type {\n        vertical-align: middle;\n    }\n\n    .dataframe tbody tr th {\n        vertical-align: top;\n    }\n\n    .dataframe thead th {\n        text-align: right;\n    }\n</style>\n<table border=\"1\" class=\"dataframe\">\n  <thead>\n    <tr style=\"text-align: right;\">\n      <th></th>\n      <th>score_pos_neg_diff</th>\n      <th>score_average_rating</th>\n      <th>wilson_lower_bound</th>\n    </tr>\n  </thead>\n  <tbody>\n    <tr>\n      <th>2031</th>\n      <td>1884</td>\n      <td>0.966</td>\n      <td>0.958</td>\n    </tr>\n    <tr>\n      <th>4212</th>\n      <td>1442</td>\n      <td>0.926</td>\n      <td>0.912</td>\n    </tr>\n    <tr>\n      <th>3449</th>\n      <td>1351</td>\n      <td>0.949</td>\n      <td>0.937</td>\n    </tr>\n    <tr>\n      <th>317</th>\n      <td>349</td>\n      <td>0.853</td>\n      <td>0.819</td>\n    </tr>\n    <tr>\n      <th>3981</th>\n      <td>85</td>\n      <td>0.806</td>\n      <td>0.732</td>\n    </tr>\n    <tr>\n      <th>...</th>\n      <td>...</td>\n      <td>...</td>\n      <td>...</td>\n    </tr>\n    <tr>\n      <th>4391</th>\n      <td>-3</td>\n      <td>0.000</td>\n      <td>0.000</td>\n    </tr>\n    <tr>\n      <th>4574</th>\n      <td>-5</td>\n      <td>0.308</td>\n      <td>0.127</td>\n    </tr>\n    <tr>\n      <th>3198</th>\n      <td>-5</td>\n      <td>0.143</td>\n      <td>0.026</td>\n    </tr>\n    <tr>\n      <th>2751</th>\n      <td>-102</td>\n      <td>0.068</td>\n      <td>0.035</td>\n    </tr>\n    <tr>\n      <th>2909</th>\n      <td>-130</td>\n      <td>0.225</td>\n      <td>0.176</td>\n    </tr>\n  </tbody>\n</table>\n<p>4915 rows × 3 columns</p>\n</div>"
     },
     "execution_count": 25,
     "metadata": {},
     "output_type": "execute_result"
    }
   ],
   "source": [
    "df.loc[:, [\"score_pos_neg_diff\", 'score_average_rating', 'wilson_lower_bound']].sort_values(by=[\"score_pos_neg_diff\", 'score_average_rating', 'wilson_lower_bound'],ascending=False)"
   ],
   "metadata": {
    "collapsed": false,
    "pycharm": {
     "name": "#%%\n"
    }
   }
  },
  {
   "cell_type": "code",
   "execution_count": 26,
   "outputs": [
    {
     "data": {
      "text/plain": "          reviewerID        asin                          reviewerName  \\\n2031  A12B7ZMXFI6IXY  B007WTAJTO                  Hyoun Kim \"Faluzure\"   \n3449   AOEAD7DPLZE53  B007WTAJTO                     NLee the Engineer   \n4212   AVBMZZAFEKO58  B007WTAJTO                           SkincareCEO   \n317   A1ZQAQFYSXL5MQ  B007WTAJTO               Amazon Customer \"Kelly\"   \n4672  A2DKQQIZ793AV5  B007WTAJTO                               Twister   \n1835  A1J6VSUM80UAF8  B007WTAJTO                           goconfigure   \n3981  A1K91XXQ6ZEBQR  B007WTAJTO            R. Sutton, Jr. \"RWSynergy\"   \n3807   AFGRMORWY2QNX  B007WTAJTO                            R. Heisler   \n4306   AOHXKM5URSKAB  B007WTAJTO                         Stellar Eller   \n4596  A1WTQUOQ4WG9AI  B007WTAJTO           Tom Henriksen \"Doggy Diner\"   \n315   A2J26NNQX6WKAU  B007WTAJTO            Amazon Customer \"johncrea\"   \n1465   A6I8KXYK24RTB  B007WTAJTO                              D. Stein   \n1609  A2TPXOZSU1DACQ  B007WTAJTO                                Eskimo   \n4302  A2EL2GWJ9T0DWY  B007WTAJTO                             Stayeraug   \n4072  A22GOZTFA02O2F  B007WTAJTO                           sb21 \"sb21\"   \n1072  A2O96COBMVY9C4  B007WTAJTO                        Crysis Complex   \n2583  A3MEPYZVTAV90W  B007WTAJTO                               J. Wong   \n121   A2Z4VVF1NTJWPB  B007WTAJTO                                A. Lee   \n1142  A1PLHPPAJ5MUXG  B007WTAJTO  Daniel Pham(Danpham_X @ yahoo.  com)   \n1753   ALPLKR59QMBUX  B007WTAJTO                             G. Becker   \n\n           helpful                                         reviewText  \\\n2031  [1952, 2020]  [[ UPDATE - 6/19/2014 ]]So my lovely wife boug...   \n3449  [1428, 1505]  I have tested dozens of SDHC and micro-SDHC ca...   \n4212  [1568, 1694]  NOTE:  please read the last update (scroll to ...   \n317     [422, 495]  If your card gets hot enough to be painful, it...   \n4672      [45, 49]  Sandisk announcement of the first 128GB micro ...   \n1835      [60, 68]  Bought from BestBuy online the day it was anno...   \n3981    [112, 139]  The last few days I have been diligently shopp...   \n3807      [22, 25]  I bought this card to replace a lost 16 gig in...   \n4306      [51, 65]  While I got this card as a \"deal of the day\" o...   \n4596     [82, 109]  Hi:I ordered two card and they arrived the nex...   \n315       [38, 48]  Bought this card to use with my Samsung Galaxy...   \n1465        [7, 7]  I for one have not bought into Google's, or an...   \n1609        [7, 7]  I have always been a sandisk guy.  This cards ...   \n4302      [14, 16]  So I got this SD specifically for my GoPro Bla...   \n4072        [6, 6]  I used this for my Samsung Galaxy Tab 2 7.0 . ...   \n1072        [5, 5]  What more can I say? The 64GB micro SD works f...   \n2583        [5, 5]  I bought this Class 10 SD card for my GoPro 3 ...   \n121         [5, 5]  Update: providing an update with regard to San...   \n1142        [5, 5]  As soon as I saw that this card was announced ...   \n1753        [5, 5]  Puchased this card right after I received my S...   \n\n      overall                                            summary  \\\n2031    5.000  UPDATED - Great w/ Galaxy S4 & Galaxy Tab 4 10...   \n3449    5.000  Top of the class among all (budget-priced) mic...   \n4212    1.000  1 Star reviews - Micro SDXC card unmounts itse...   \n317     1.000                                Warning, read this!   \n4672    5.000  Super high capacity!!!  Excellent price (on Am...   \n1835    5.000                                           I own it   \n3981    5.000  Resolving confusion between \"Mobile Ultra\" and...   \n3807    3.000   Good buy for the money but wait, I had an issue!   \n4306    5.000                                      Awesome Card!   \n4596    1.000     Designed incompatibility/Don't support SanDisk   \n315     5.000  Samsung Galaxy Tab2 works with this card if re...   \n1465    4.000                                           Finally.   \n1609    5.000                  Bet you wish you had one of these   \n4302    5.000                        Perfect with GoPro Black 3+   \n4072    5.000               Used for my Samsung Galaxy Tab 2 7.0   \n1072    5.000               Works wonders for the Galaxy Note 2!   \n2583    5.000                  Works Great with a GoPro 3 Black!   \n121     5.000                     ready for use on the Galaxy S3   \n1142    5.000                          Great large capacity card   \n1753    5.000                    Use Nothing Other Than the Best   \n\n      unixReviewTime reviewTime  day_diff  helpful_yes  total_vote  timeDiff  \\\n2031      1367366400 2013-01-05       702         1952        2020       703   \n3449      1348617600 2012-09-26       803         1428        1505       804   \n4212      1375660800 2013-05-08       579         1568        1694       580   \n317       1346544000 2012-02-09      1033          422         495      1034   \n4672      1394150400 2014-07-03       158           45          49       159   \n1835      1393545600 2014-02-28       283           60          68       284   \n3981      1350864000 2012-10-22       777          112         139       778   \n3807      1361923200 2013-02-27       649           22          25       650   \n4306      1339200000 2012-09-06       823           51          65       824   \n4596      1348272000 2012-09-22       807           82         109       808   \n315       1344816000 2012-08-13       847           38          48       848   \n1465      1397433600 2014-04-14       238            7           7       239   \n1609      1395792000 2014-03-26       257            7           7       258   \n4302      1395360000 2014-03-21       262           14          16       263   \n4072      1347321600 2012-11-09       759            6           6       760   \n1072      1349395200 2012-05-10       942            5           5       943   \n2583      1370649600 2013-08-06       489            5           5       490   \n121       1346803200 2012-05-09       943            5           5       944   \n1142      1396396800 2014-02-04       307            5           5       308   \n1753      1350864000 2012-10-22       777            5           5       778   \n\n      helpful_no  score_pos_neg_diff  score_average_rating  wilson_lower_bound  \n2031          68                1884                 0.966               0.958  \n3449          77                1351                 0.949               0.937  \n4212         126                1442                 0.926               0.912  \n317           73                 349                 0.853               0.819  \n4672           4                  41                 0.918               0.808  \n1835           8                  52                 0.882               0.785  \n3981          27                  85                 0.806               0.732  \n3807           3                  19                 0.880               0.700  \n4306          14                  37                 0.785               0.670  \n4596          27                  55                 0.752               0.664  \n315           10                  28                 0.792               0.657  \n1465           0                   7                 1.000               0.646  \n1609           0                   7                 1.000               0.646  \n4302           2                  12                 0.875               0.640  \n4072           0                   6                 1.000               0.610  \n1072           0                   5                 1.000               0.566  \n2583           0                   5                 1.000               0.566  \n121            0                   5                 1.000               0.566  \n1142           0                   5                 1.000               0.566  \n1753           0                   5                 1.000               0.566  ",
      "text/html": "<div>\n<style scoped>\n    .dataframe tbody tr th:only-of-type {\n        vertical-align: middle;\n    }\n\n    .dataframe tbody tr th {\n        vertical-align: top;\n    }\n\n    .dataframe thead th {\n        text-align: right;\n    }\n</style>\n<table border=\"1\" class=\"dataframe\">\n  <thead>\n    <tr style=\"text-align: right;\">\n      <th></th>\n      <th>reviewerID</th>\n      <th>asin</th>\n      <th>reviewerName</th>\n      <th>helpful</th>\n      <th>reviewText</th>\n      <th>overall</th>\n      <th>summary</th>\n      <th>unixReviewTime</th>\n      <th>reviewTime</th>\n      <th>day_diff</th>\n      <th>helpful_yes</th>\n      <th>total_vote</th>\n      <th>timeDiff</th>\n      <th>helpful_no</th>\n      <th>score_pos_neg_diff</th>\n      <th>score_average_rating</th>\n      <th>wilson_lower_bound</th>\n    </tr>\n  </thead>\n  <tbody>\n    <tr>\n      <th>2031</th>\n      <td>A12B7ZMXFI6IXY</td>\n      <td>B007WTAJTO</td>\n      <td>Hyoun Kim \"Faluzure\"</td>\n      <td>[1952, 2020]</td>\n      <td>[[ UPDATE - 6/19/2014 ]]So my lovely wife boug...</td>\n      <td>5.000</td>\n      <td>UPDATED - Great w/ Galaxy S4 &amp; Galaxy Tab 4 10...</td>\n      <td>1367366400</td>\n      <td>2013-01-05</td>\n      <td>702</td>\n      <td>1952</td>\n      <td>2020</td>\n      <td>703</td>\n      <td>68</td>\n      <td>1884</td>\n      <td>0.966</td>\n      <td>0.958</td>\n    </tr>\n    <tr>\n      <th>3449</th>\n      <td>AOEAD7DPLZE53</td>\n      <td>B007WTAJTO</td>\n      <td>NLee the Engineer</td>\n      <td>[1428, 1505]</td>\n      <td>I have tested dozens of SDHC and micro-SDHC ca...</td>\n      <td>5.000</td>\n      <td>Top of the class among all (budget-priced) mic...</td>\n      <td>1348617600</td>\n      <td>2012-09-26</td>\n      <td>803</td>\n      <td>1428</td>\n      <td>1505</td>\n      <td>804</td>\n      <td>77</td>\n      <td>1351</td>\n      <td>0.949</td>\n      <td>0.937</td>\n    </tr>\n    <tr>\n      <th>4212</th>\n      <td>AVBMZZAFEKO58</td>\n      <td>B007WTAJTO</td>\n      <td>SkincareCEO</td>\n      <td>[1568, 1694]</td>\n      <td>NOTE:  please read the last update (scroll to ...</td>\n      <td>1.000</td>\n      <td>1 Star reviews - Micro SDXC card unmounts itse...</td>\n      <td>1375660800</td>\n      <td>2013-05-08</td>\n      <td>579</td>\n      <td>1568</td>\n      <td>1694</td>\n      <td>580</td>\n      <td>126</td>\n      <td>1442</td>\n      <td>0.926</td>\n      <td>0.912</td>\n    </tr>\n    <tr>\n      <th>317</th>\n      <td>A1ZQAQFYSXL5MQ</td>\n      <td>B007WTAJTO</td>\n      <td>Amazon Customer \"Kelly\"</td>\n      <td>[422, 495]</td>\n      <td>If your card gets hot enough to be painful, it...</td>\n      <td>1.000</td>\n      <td>Warning, read this!</td>\n      <td>1346544000</td>\n      <td>2012-02-09</td>\n      <td>1033</td>\n      <td>422</td>\n      <td>495</td>\n      <td>1034</td>\n      <td>73</td>\n      <td>349</td>\n      <td>0.853</td>\n      <td>0.819</td>\n    </tr>\n    <tr>\n      <th>4672</th>\n      <td>A2DKQQIZ793AV5</td>\n      <td>B007WTAJTO</td>\n      <td>Twister</td>\n      <td>[45, 49]</td>\n      <td>Sandisk announcement of the first 128GB micro ...</td>\n      <td>5.000</td>\n      <td>Super high capacity!!!  Excellent price (on Am...</td>\n      <td>1394150400</td>\n      <td>2014-07-03</td>\n      <td>158</td>\n      <td>45</td>\n      <td>49</td>\n      <td>159</td>\n      <td>4</td>\n      <td>41</td>\n      <td>0.918</td>\n      <td>0.808</td>\n    </tr>\n    <tr>\n      <th>1835</th>\n      <td>A1J6VSUM80UAF8</td>\n      <td>B007WTAJTO</td>\n      <td>goconfigure</td>\n      <td>[60, 68]</td>\n      <td>Bought from BestBuy online the day it was anno...</td>\n      <td>5.000</td>\n      <td>I own it</td>\n      <td>1393545600</td>\n      <td>2014-02-28</td>\n      <td>283</td>\n      <td>60</td>\n      <td>68</td>\n      <td>284</td>\n      <td>8</td>\n      <td>52</td>\n      <td>0.882</td>\n      <td>0.785</td>\n    </tr>\n    <tr>\n      <th>3981</th>\n      <td>A1K91XXQ6ZEBQR</td>\n      <td>B007WTAJTO</td>\n      <td>R. Sutton, Jr. \"RWSynergy\"</td>\n      <td>[112, 139]</td>\n      <td>The last few days I have been diligently shopp...</td>\n      <td>5.000</td>\n      <td>Resolving confusion between \"Mobile Ultra\" and...</td>\n      <td>1350864000</td>\n      <td>2012-10-22</td>\n      <td>777</td>\n      <td>112</td>\n      <td>139</td>\n      <td>778</td>\n      <td>27</td>\n      <td>85</td>\n      <td>0.806</td>\n      <td>0.732</td>\n    </tr>\n    <tr>\n      <th>3807</th>\n      <td>AFGRMORWY2QNX</td>\n      <td>B007WTAJTO</td>\n      <td>R. Heisler</td>\n      <td>[22, 25]</td>\n      <td>I bought this card to replace a lost 16 gig in...</td>\n      <td>3.000</td>\n      <td>Good buy for the money but wait, I had an issue!</td>\n      <td>1361923200</td>\n      <td>2013-02-27</td>\n      <td>649</td>\n      <td>22</td>\n      <td>25</td>\n      <td>650</td>\n      <td>3</td>\n      <td>19</td>\n      <td>0.880</td>\n      <td>0.700</td>\n    </tr>\n    <tr>\n      <th>4306</th>\n      <td>AOHXKM5URSKAB</td>\n      <td>B007WTAJTO</td>\n      <td>Stellar Eller</td>\n      <td>[51, 65]</td>\n      <td>While I got this card as a \"deal of the day\" o...</td>\n      <td>5.000</td>\n      <td>Awesome Card!</td>\n      <td>1339200000</td>\n      <td>2012-09-06</td>\n      <td>823</td>\n      <td>51</td>\n      <td>65</td>\n      <td>824</td>\n      <td>14</td>\n      <td>37</td>\n      <td>0.785</td>\n      <td>0.670</td>\n    </tr>\n    <tr>\n      <th>4596</th>\n      <td>A1WTQUOQ4WG9AI</td>\n      <td>B007WTAJTO</td>\n      <td>Tom Henriksen \"Doggy Diner\"</td>\n      <td>[82, 109]</td>\n      <td>Hi:I ordered two card and they arrived the nex...</td>\n      <td>1.000</td>\n      <td>Designed incompatibility/Don't support SanDisk</td>\n      <td>1348272000</td>\n      <td>2012-09-22</td>\n      <td>807</td>\n      <td>82</td>\n      <td>109</td>\n      <td>808</td>\n      <td>27</td>\n      <td>55</td>\n      <td>0.752</td>\n      <td>0.664</td>\n    </tr>\n    <tr>\n      <th>315</th>\n      <td>A2J26NNQX6WKAU</td>\n      <td>B007WTAJTO</td>\n      <td>Amazon Customer \"johncrea\"</td>\n      <td>[38, 48]</td>\n      <td>Bought this card to use with my Samsung Galaxy...</td>\n      <td>5.000</td>\n      <td>Samsung Galaxy Tab2 works with this card if re...</td>\n      <td>1344816000</td>\n      <td>2012-08-13</td>\n      <td>847</td>\n      <td>38</td>\n      <td>48</td>\n      <td>848</td>\n      <td>10</td>\n      <td>28</td>\n      <td>0.792</td>\n      <td>0.657</td>\n    </tr>\n    <tr>\n      <th>1465</th>\n      <td>A6I8KXYK24RTB</td>\n      <td>B007WTAJTO</td>\n      <td>D. Stein</td>\n      <td>[7, 7]</td>\n      <td>I for one have not bought into Google's, or an...</td>\n      <td>4.000</td>\n      <td>Finally.</td>\n      <td>1397433600</td>\n      <td>2014-04-14</td>\n      <td>238</td>\n      <td>7</td>\n      <td>7</td>\n      <td>239</td>\n      <td>0</td>\n      <td>7</td>\n      <td>1.000</td>\n      <td>0.646</td>\n    </tr>\n    <tr>\n      <th>1609</th>\n      <td>A2TPXOZSU1DACQ</td>\n      <td>B007WTAJTO</td>\n      <td>Eskimo</td>\n      <td>[7, 7]</td>\n      <td>I have always been a sandisk guy.  This cards ...</td>\n      <td>5.000</td>\n      <td>Bet you wish you had one of these</td>\n      <td>1395792000</td>\n      <td>2014-03-26</td>\n      <td>257</td>\n      <td>7</td>\n      <td>7</td>\n      <td>258</td>\n      <td>0</td>\n      <td>7</td>\n      <td>1.000</td>\n      <td>0.646</td>\n    </tr>\n    <tr>\n      <th>4302</th>\n      <td>A2EL2GWJ9T0DWY</td>\n      <td>B007WTAJTO</td>\n      <td>Stayeraug</td>\n      <td>[14, 16]</td>\n      <td>So I got this SD specifically for my GoPro Bla...</td>\n      <td>5.000</td>\n      <td>Perfect with GoPro Black 3+</td>\n      <td>1395360000</td>\n      <td>2014-03-21</td>\n      <td>262</td>\n      <td>14</td>\n      <td>16</td>\n      <td>263</td>\n      <td>2</td>\n      <td>12</td>\n      <td>0.875</td>\n      <td>0.640</td>\n    </tr>\n    <tr>\n      <th>4072</th>\n      <td>A22GOZTFA02O2F</td>\n      <td>B007WTAJTO</td>\n      <td>sb21 \"sb21\"</td>\n      <td>[6, 6]</td>\n      <td>I used this for my Samsung Galaxy Tab 2 7.0 . ...</td>\n      <td>5.000</td>\n      <td>Used for my Samsung Galaxy Tab 2 7.0</td>\n      <td>1347321600</td>\n      <td>2012-11-09</td>\n      <td>759</td>\n      <td>6</td>\n      <td>6</td>\n      <td>760</td>\n      <td>0</td>\n      <td>6</td>\n      <td>1.000</td>\n      <td>0.610</td>\n    </tr>\n    <tr>\n      <th>1072</th>\n      <td>A2O96COBMVY9C4</td>\n      <td>B007WTAJTO</td>\n      <td>Crysis Complex</td>\n      <td>[5, 5]</td>\n      <td>What more can I say? The 64GB micro SD works f...</td>\n      <td>5.000</td>\n      <td>Works wonders for the Galaxy Note 2!</td>\n      <td>1349395200</td>\n      <td>2012-05-10</td>\n      <td>942</td>\n      <td>5</td>\n      <td>5</td>\n      <td>943</td>\n      <td>0</td>\n      <td>5</td>\n      <td>1.000</td>\n      <td>0.566</td>\n    </tr>\n    <tr>\n      <th>2583</th>\n      <td>A3MEPYZVTAV90W</td>\n      <td>B007WTAJTO</td>\n      <td>J. Wong</td>\n      <td>[5, 5]</td>\n      <td>I bought this Class 10 SD card for my GoPro 3 ...</td>\n      <td>5.000</td>\n      <td>Works Great with a GoPro 3 Black!</td>\n      <td>1370649600</td>\n      <td>2013-08-06</td>\n      <td>489</td>\n      <td>5</td>\n      <td>5</td>\n      <td>490</td>\n      <td>0</td>\n      <td>5</td>\n      <td>1.000</td>\n      <td>0.566</td>\n    </tr>\n    <tr>\n      <th>121</th>\n      <td>A2Z4VVF1NTJWPB</td>\n      <td>B007WTAJTO</td>\n      <td>A. Lee</td>\n      <td>[5, 5]</td>\n      <td>Update: providing an update with regard to San...</td>\n      <td>5.000</td>\n      <td>ready for use on the Galaxy S3</td>\n      <td>1346803200</td>\n      <td>2012-05-09</td>\n      <td>943</td>\n      <td>5</td>\n      <td>5</td>\n      <td>944</td>\n      <td>0</td>\n      <td>5</td>\n      <td>1.000</td>\n      <td>0.566</td>\n    </tr>\n    <tr>\n      <th>1142</th>\n      <td>A1PLHPPAJ5MUXG</td>\n      <td>B007WTAJTO</td>\n      <td>Daniel Pham(Danpham_X @ yahoo.  com)</td>\n      <td>[5, 5]</td>\n      <td>As soon as I saw that this card was announced ...</td>\n      <td>5.000</td>\n      <td>Great large capacity card</td>\n      <td>1396396800</td>\n      <td>2014-02-04</td>\n      <td>307</td>\n      <td>5</td>\n      <td>5</td>\n      <td>308</td>\n      <td>0</td>\n      <td>5</td>\n      <td>1.000</td>\n      <td>0.566</td>\n    </tr>\n    <tr>\n      <th>1753</th>\n      <td>ALPLKR59QMBUX</td>\n      <td>B007WTAJTO</td>\n      <td>G. Becker</td>\n      <td>[5, 5]</td>\n      <td>Puchased this card right after I received my S...</td>\n      <td>5.000</td>\n      <td>Use Nothing Other Than the Best</td>\n      <td>1350864000</td>\n      <td>2012-10-22</td>\n      <td>777</td>\n      <td>5</td>\n      <td>5</td>\n      <td>778</td>\n      <td>0</td>\n      <td>5</td>\n      <td>1.000</td>\n      <td>0.566</td>\n    </tr>\n  </tbody>\n</table>\n</div>"
     },
     "execution_count": 26,
     "metadata": {},
     "output_type": "execute_result"
    }
   ],
   "source": [
    "# Task 2_3\n",
    "# Top 20 comments by WLB value\n",
    "df.sort_values(by='wilson_lower_bound', ascending=False).head(20)"
   ],
   "metadata": {
    "collapsed": false,
    "pycharm": {
     "name": "#%%\n"
    }
   }
  },
  {
   "cell_type": "markdown",
   "source": [
    "Up-Down Difference Score degeri dusuk, Average Rating Score degeri yuksek olmasina ragmen bazi yorumlar ust siralarda yer almistir. Ayni sekilde Up-Down Difference Score degeri yuksek, Average Rating Score degeri dusuk olan yorumlarin da asagi satirlarda yer aldigini farkedebiliriz. Bunun nedeni ise, Birinci olay icin WBL oranlarinin digerlerine gore yuksek olmasi, ikinci olay icin ise WBL nin dusuk olmasidir. Dahasi Average Rating Score u full yani 1 olan satirlarda gormek mumkun fakat bunlarin Up-Down degerleri cok dusuktur. Bu 3 kiyaslamada bize en guvenilir sonucu donen WLB oldugu icin onu baz aldik ve siralamayi yapmis olduk."
   ],
   "metadata": {
    "collapsed": false,
    "pycharm": {
     "name": "#%% md\n"
    }
   }
  }
 ],
 "metadata": {
  "kernelspec": {
   "display_name": "Python 3",
   "language": "python",
   "name": "python3"
  },
  "language_info": {
   "codemirror_mode": {
    "name": "ipython",
    "version": 2
   },
   "file_extension": ".py",
   "mimetype": "text/x-python",
   "name": "python",
   "nbconvert_exporter": "python",
   "pygments_lexer": "ipython2",
   "version": "2.7.6"
  }
 },
 "nbformat": 4,
 "nbformat_minor": 0
}